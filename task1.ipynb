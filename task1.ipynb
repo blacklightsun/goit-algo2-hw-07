{
 "cells": [
  {
   "cell_type": "code",
   "execution_count": null,
   "id": "37b09d87",
   "metadata": {},
   "outputs": [],
   "source": [
    "# імпорт базових модулей\n",
    "from tqdm import tqdm\n",
    "import numpy as np\n",
    "\n",
    "# вимикаємо зайві попередження\n",
    "import warnings\n",
    "warnings.filterwarnings(\"ignore\")\n",
    "\n",
    "# друк всіх результатів в одній комірці а не тільки останнього\n",
    "from IPython.core.interactiveshell import InteractiveShell\n",
    "InteractiveShell.ast_node_interactivity = \"all\"\n"
   ]
  },
  {
   "cell_type": "code",
   "execution_count": null,
   "id": "d5efc267",
   "metadata": {},
   "outputs": [],
   "source": [
    "# імпорт додаткових модулів\n",
    "import random\n",
    "import array\n",
    "import time\n",
    "from copy import deepcopy"
   ]
  },
  {
   "cell_type": "code",
   "execution_count": 3,
   "id": "38d4a7fd",
   "metadata": {},
   "outputs": [
    {
     "data": {
      "text/plain": [
       "(50000,\n",
       " [('Range', 23556, 72533),\n",
       "  ('Range', 31931, 72603),\n",
       "  ('Range', 49065, 59476),\n",
       "  ('Range', 24882, 55050),\n",
       "  ('Range', 49065, 59476),\n",
       "  ('Range', 49065, 59476),\n",
       "  ('Range', 18365, 77213),\n",
       "  ('Range', 49065, 59476),\n",
       "  ('Range', 9644, 61246),\n",
       "  ('Range', 39054, 99662)])"
      ]
     },
     "execution_count": 3,
     "metadata": {},
     "output_type": "execute_result"
    }
   ],
   "source": [
    "def make_queries(n, q, hot_pool=30, p_hot=0.95, p_update=0.03):\n",
    "    \"\"\"Функція для генерації запитів до масиву.\"\"\"\n",
    "    hot = [\n",
    "        (random.randint(0, n // 2), random.randint(n // 2, n - 1))\n",
    "        for _ in range(hot_pool)\n",
    "    ]\n",
    "    queries = []\n",
    "    for _ in range(q):\n",
    "        if random.random() < p_update:  # ~3% запитів — Update\n",
    "            idx = random.randint(0, n - 1)\n",
    "            val = random.randint(1, 100)\n",
    "            queries.append((\"Update\", idx, val))\n",
    "        else:  # ~97% — Range\n",
    "            if random.random() < p_hot:  # 95% — «гарячі» діапазони\n",
    "                left, right = random.choice(hot)\n",
    "            else:  # 5% — випадкові діапазони\n",
    "                left = random.randint(0, n - 1)\n",
    "                right = random.randint(left, n - 1)\n",
    "            queries.append((\"Range\", left, right))\n",
    "    return queries\n",
    "\n",
    "# Створення масиву запитів\n",
    "queries = make_queries(100000, 50000,)\n",
    "# перевірка створеня запитів\n",
    "len(queries), queries[:10]"
   ]
  },
  {
   "cell_type": "code",
   "execution_count": 4,
   "id": "bc7e8eb0",
   "metadata": {},
   "outputs": [],
   "source": [
    "# кастомний клас для реалізації LRU-кешу з конспекту\n",
    "class Node:\n",
    "    def __init__(self, key, value):\n",
    "        self.data = (key, value)\n",
    "        self.next = None\n",
    "        self.prev = None\n",
    "\n",
    "\n",
    "class DoublyLinkedList:\n",
    "    def __init__(self):\n",
    "        self.head = None\n",
    "        self.tail = None\n",
    "\n",
    "    def push(self, key, value):\n",
    "        new_node = Node(key, value)\n",
    "        new_node.next = self.head\n",
    "        if self.head:\n",
    "            self.head.prev = new_node\n",
    "        else:\n",
    "            self.tail = new_node\n",
    "        self.head = new_node\n",
    "        return new_node\n",
    "\n",
    "    def remove(self, node):\n",
    "        if node.prev:\n",
    "            node.prev.next = node.next\n",
    "        else:\n",
    "            self.head = node.next\n",
    "        if node.next:\n",
    "            node.next.prev = node.prev\n",
    "        else:\n",
    "            self.tail = node.prev\n",
    "        node.prev = None\n",
    "        node.next = None\n",
    "\n",
    "    def move_to_front(self, node):\n",
    "        if node != self.head:\n",
    "            self.remove(node)\n",
    "            node.next = self.head\n",
    "            self.head.prev = node\n",
    "            self.head = node\n",
    "\n",
    "    def remove_last(self):\n",
    "        if self.tail:\n",
    "            last = self.tail\n",
    "            self.remove(last)\n",
    "            return last\n",
    "        return None\n",
    "\n",
    "\n",
    "class LRUCache:\n",
    "    def __init__(self, capacity):\n",
    "        self.capacity = capacity\n",
    "        self.cache = {}\n",
    "        self.list = DoublyLinkedList()\n",
    "\n",
    "    def get(self, key):\n",
    "        if key in self.cache:\n",
    "            node = self.cache[key]\n",
    "            self.list.move_to_front(node)\n",
    "            return node.data[1]\n",
    "        return -1\n",
    "\n",
    "    def put(self, key, value):\n",
    "        if key in self.cache:\n",
    "            node = self.cache[key]\n",
    "            node.data = (key, value)\n",
    "            self.list.move_to_front(node)\n",
    "        else:\n",
    "            if len(self.cache) >= self.capacity:\n",
    "                last = self.list.remove_last()\n",
    "                if last:\n",
    "                    del self.cache[last.data[0]]\n",
    "            new_node = self.list.push(key, value)\n",
    "            self.cache[key] = new_node"
   ]
  },
  {
   "cell_type": "code",
   "execution_count": 5,
   "id": "5173559f",
   "metadata": {},
   "outputs": [],
   "source": [
    "# клас-наслідувач для реалізації LRU-кешу з видаленням діапазону\n",
    "class LRUCacheWithRangeDeleting(LRUCache):\n",
    "    def __init__(self, capacity):\n",
    "        super().__init__(capacity)\n",
    "\n",
    "    def delete_range(self, index):\n",
    "        current = self.list.head\n",
    "        while current:\n",
    "            if current.data[0][0] <= index <= current.data[0][1]:\n",
    "                next_node = current.next\n",
    "                self.list.remove(current)\n",
    "                del self.cache[current.data[0]]\n",
    "                current = next_node\n",
    "            else:\n",
    "                current = current.next"
   ]
  },
  {
   "cell_type": "code",
   "execution_count": 6,
   "id": "fc045ea5",
   "metadata": {},
   "outputs": [],
   "source": [
    "def range_sum_no_cache(array, left, right):\n",
    "    \"\"\"Функція для обчислення суми елементів масиву в діапазоні [left, right] без використання кешу.   \"\"\"\n",
    "    return sum(array[left:right + 1])"
   ]
  },
  {
   "cell_type": "code",
   "execution_count": 7,
   "id": "0d6fbe4f",
   "metadata": {},
   "outputs": [],
   "source": [
    "def update_no_cache(array, index, value):\n",
    "    \"\"\"Функція для оновлення значення елемента масиву без використання кешу.\"\"\"\n",
    "    array[index] = value\n",
    "    return array"
   ]
  },
  {
   "cell_type": "code",
   "execution_count": 8,
   "id": "b8e465e0",
   "metadata": {},
   "outputs": [],
   "source": [
    "def range_sum_with_cache(array, left, right):\n",
    "    \"\"\"Функція для обчислення суми елементів масиву в діапазоні [left, right] з використанням кешу.\"\"\"\n",
    "    from_cache = arr_cache.get((left, right))\n",
    "    if from_cache == -1:\n",
    "        new_value = sum(array[left : right + 1])\n",
    "        arr_cache.put((left, right), new_value)\n",
    "        return new_value\n",
    "    else:\n",
    "        return from_cache"
   ]
  },
  {
   "cell_type": "code",
   "execution_count": 9,
   "id": "24159cff",
   "metadata": {},
   "outputs": [],
   "source": [
    "def update_with_cache(array, index, value):\n",
    "    \"\"\"Функція для оновлення значення елемента масиву з видаленням з кешу всіх елементів в діапазон яких входить індекс.\"\"\"\n",
    "    arr_cache.delete_range(index)\n",
    "    array[index] = value\n",
    "    return array"
   ]
  },
  {
   "cell_type": "code",
   "execution_count": 10,
   "id": "4c25a54c",
   "metadata": {},
   "outputs": [
    {
     "data": {
      "text/plain": [
       "array('B', [186, 83, 87, 228, 129, 179, 135, 12, 5, 148])"
      ]
     },
     "execution_count": 10,
     "metadata": {},
     "output_type": "execute_result"
    }
   ],
   "source": [
    "# створення масиву з випадковими значеннями\n",
    "arr = array.array(\"B\", np.random.randint(0, 255, size=100000))\n",
    "# створення кешу\n",
    "arr_cache = LRUCacheWithRangeDeleting(capacity=1000)\n",
    "\n",
    "# перевірка створення масиву\n",
    "arr[:10]"
   ]
  },
  {
   "cell_type": "code",
   "execution_count": 11,
   "id": "f7496ac5",
   "metadata": {},
   "outputs": [
    {
     "name": "stderr",
     "output_type": "stream",
     "text": [
      "100%|██████████| 50000/50000 [00:12<00:00, 4151.02it/s]\n"
     ]
    }
   ],
   "source": [
    "# замір часу виконання запитів без кешу\n",
    "\n",
    "# створення копії масиву для роботи без кешу\n",
    "no_cache_arr = deepcopy(arr)\n",
    "\n",
    "nocache_start_time = time.time()\n",
    "\n",
    "for query in tqdm(queries):\n",
    "    if query[0] == \"Update\":\n",
    "        arr = update_no_cache(no_cache_arr, query[1], query[2])\n",
    "    elif query[0] == \"Range\":\n",
    "        _ = range_sum_no_cache(no_cache_arr, query[1], query[2])\n",
    "\n",
    "nocache_end_time = time.time()\n",
    "# print(\"No cache time:\", nocache_end_time - nocache_start_time)"
   ]
  },
  {
   "cell_type": "code",
   "execution_count": 12,
   "id": "ba212406",
   "metadata": {},
   "outputs": [
    {
     "name": "stderr",
     "output_type": "stream",
     "text": [
      "100%|██████████| 50000/50000 [00:04<00:00, 11658.15it/s]\n"
     ]
    }
   ],
   "source": [
    "# замір часу виконання запитів з кешем\n",
    "\n",
    "# створення копії масиву для роботи з кешем\n",
    "cache_arr = deepcopy(arr)\n",
    "\n",
    "cache_start_time = time.time()\n",
    "\n",
    "for query in tqdm(queries):\n",
    "    if query[0] == \"Update\":\n",
    "        arr = update_with_cache(cache_arr, query[1], query[2])\n",
    "    elif query[0] == \"Range\":\n",
    "        _ = range_sum_with_cache(cache_arr, query[1], query[2])\n",
    "\n",
    "cache_end_time = time.time()\n",
    "# print(\"Cache time:\", cache_end_time - cache_start_time)"
   ]
  },
  {
   "cell_type": "code",
   "execution_count": 13,
   "id": "8931cc74",
   "metadata": {},
   "outputs": [
    {
     "name": "stdout",
     "output_type": "stream",
     "text": [
      "Час обробки 50000 запитів складає:\n",
      "Без кешу    : 12.05 секунд\n",
      "З LRU-кешем : 4.29 секунд (прискорення x2.8)\n"
     ]
    }
   ],
   "source": [
    "# вивід результатів замірів часу\n",
    "\n",
    "print(f\"Час обробки {len(queries)} запитів складає:\")\n",
    "print(f\"Без кешу    : {nocache_end_time - nocache_start_time:.2f} секунд\")\n",
    "print(\n",
    "    f\"З LRU-кешем : {cache_end_time - cache_start_time:.2f} секунд (прискорення x{((nocache_end_time - nocache_start_time) / (cache_end_time - cache_start_time)):.1f})\"\n",
    ")"
   ]
  }
 ],
 "metadata": {
  "kernelspec": {
   "display_name": "Python 3 (ipykernel)",
   "language": "python",
   "name": "python3"
  }
 },
 "nbformat": 4,
 "nbformat_minor": 5
}
